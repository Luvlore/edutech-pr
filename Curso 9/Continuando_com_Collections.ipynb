{
  "nbformat": 4,
  "nbformat_minor": 0,
  "metadata": {
    "colab": {
      "name": "Continuando com Collections.ipynb",
      "provenance": [],
      "collapsed_sections": [],
      "authorship_tag": "ABX9TyPmLNBdKWkfkihbuUIz+qFw",
      "include_colab_link": true
    },
    "kernelspec": {
      "name": "python3",
      "display_name": "Python 3"
    },
    "language_info": {
      "name": "python"
    }
  },
  "cells": [
    {
      "cell_type": "markdown",
      "metadata": {
        "id": "view-in-github",
        "colab_type": "text"
      },
      "source": [
        "<a href=\"https://colab.research.google.com/github/Luvlore/edutech-pr/blob/main/Continuando_com_Collections.ipynb\" target=\"_parent\"><img src=\"https://colab.research.google.com/assets/colab-badge.svg\" alt=\"Open In Colab\"/></a>"
      ]
    },
    {
      "cell_type": "code",
      "metadata": {
        "id": "dGOhyFWynIAE"
      },
      "source": [
        "usuarios_data_science = [15, 23, 43, 56]\n",
        "usuarios_machine_learning = [13, 23, 56, 42]"
      ],
      "execution_count": null,
      "outputs": []
    },
    {
      "cell_type": "code",
      "metadata": {
        "colab": {
          "base_uri": "https://localhost:8080/"
        },
        "id": "TOexjXPunhlS",
        "outputId": "9b726f35-72fa-42c5-d259-a2ecca1b8074"
      },
      "source": [
        "assistiram = usuarios_data_science.copy()\n",
        "assistiram.extend(usuarios_machine_learning)\n",
        "assistiram"
      ],
      "execution_count": null,
      "outputs": [
        {
          "output_type": "execute_result",
          "data": {
            "text/plain": [
              "[15, 23, 43, 56, 13, 23, 56, 42]"
            ]
          },
          "metadata": {},
          "execution_count": 21
        }
      ]
    },
    {
      "cell_type": "code",
      "metadata": {
        "colab": {
          "base_uri": "https://localhost:8080/"
        },
        "id": "THVANJPXn3iF",
        "outputId": "ab49e5c1-50ce-4099-84bf-bf2a07f327f2"
      },
      "source": [
        "len(assistiram)"
      ],
      "execution_count": null,
      "outputs": [
        {
          "output_type": "execute_result",
          "data": {
            "text/plain": [
              "8"
            ]
          },
          "metadata": {},
          "execution_count": 5
        }
      ]
    },
    {
      "cell_type": "code",
      "metadata": {
        "colab": {
          "base_uri": "https://localhost:8080/"
        },
        "id": "Nqw9NByboPmI",
        "outputId": "0e19574e-863d-4054-e330-33919fbcdc12"
      },
      "source": [
        "set(assistiram)"
      ],
      "execution_count": null,
      "outputs": [
        {
          "output_type": "execute_result",
          "data": {
            "text/plain": [
              "{13, 15, 23, 42, 43, 56}"
            ]
          },
          "metadata": {},
          "execution_count": 22
        }
      ]
    },
    {
      "cell_type": "code",
      "metadata": {
        "colab": {
          "base_uri": "https://localhost:8080/"
        },
        "id": "Ybp0-Meeokx-",
        "outputId": "2196502e-094c-4ea3-9507-30770fdff13e"
      },
      "source": [
        "set([1,2,3,1])"
      ],
      "execution_count": null,
      "outputs": [
        {
          "output_type": "execute_result",
          "data": {
            "text/plain": [
              "{1, 2, 3}"
            ]
          },
          "metadata": {},
          "execution_count": 23
        }
      ]
    },
    {
      "cell_type": "code",
      "metadata": {
        "colab": {
          "base_uri": "https://localhost:8080/"
        },
        "id": "YUquHHBfowYn",
        "outputId": "70a395b1-2afc-4c95-9921-c38331f7603d"
      },
      "source": [
        "{4,1,2,3,1}"
      ],
      "execution_count": null,
      "outputs": [
        {
          "output_type": "execute_result",
          "data": {
            "text/plain": [
              "{1, 2, 3, 4}"
            ]
          },
          "metadata": {},
          "execution_count": 10
        }
      ]
    },
    {
      "cell_type": "code",
      "metadata": {
        "colab": {
          "base_uri": "https://localhost:8080/"
        },
        "id": "vmkRrhdaoz9Q",
        "outputId": "8c1ec025-fccd-4829-a6d5-24afd73397cf"
      },
      "source": [
        "type({1,2})"
      ],
      "execution_count": null,
      "outputs": [
        {
          "output_type": "execute_result",
          "data": {
            "text/plain": [
              "set"
            ]
          },
          "metadata": {},
          "execution_count": 11
        }
      ]
    },
    {
      "cell_type": "code",
      "metadata": {
        "id": "YO6yN-cuo5d9"
      },
      "source": [
        "usuarios_data_science = {15, 23, 43, 56}\n",
        "usuarios_machine_learning = {13, 23, 56, 42}"
      ],
      "execution_count": null,
      "outputs": []
    },
    {
      "cell_type": "code",
      "metadata": {
        "colab": {
          "base_uri": "https://localhost:8080/"
        },
        "id": "61bp8DPupJZs",
        "outputId": "e577e773-1327-4239-88e8-236ca7c13cd5"
      },
      "source": [
        "usuarios_machine_learning"
      ],
      "execution_count": null,
      "outputs": [
        {
          "output_type": "execute_result",
          "data": {
            "text/plain": [
              "{13, 23, 42, 56}"
            ]
          },
          "metadata": {},
          "execution_count": 13
        }
      ]
    },
    {
      "cell_type": "code",
      "metadata": {
        "colab": {
          "base_uri": "https://localhost:8080/",
          "height": 163
        },
        "id": "khwuVtzEpLwl",
        "outputId": "0eff07e7-98ce-4638-a639-2f9c9a84f202"
      },
      "source": [
        "usuarios_machine_learning[3]"
      ],
      "execution_count": null,
      "outputs": [
        {
          "output_type": "error",
          "ename": "TypeError",
          "evalue": "ignored",
          "traceback": [
            "\u001b[0;31m---------------------------------------------------------------------------\u001b[0m",
            "\u001b[0;31mTypeError\u001b[0m                                 Traceback (most recent call last)",
            "\u001b[0;32m<ipython-input-14-ae55a602a7d7>\u001b[0m in \u001b[0;36m<module>\u001b[0;34m()\u001b[0m\n\u001b[0;32m----> 1\u001b[0;31m \u001b[0musuarios_machine_learning\u001b[0m\u001b[0;34m[\u001b[0m\u001b[0;36m3\u001b[0m\u001b[0;34m]\u001b[0m\u001b[0;34m\u001b[0m\u001b[0;34m\u001b[0m\u001b[0m\n\u001b[0m",
            "\u001b[0;31mTypeError\u001b[0m: 'set' object is not subscriptable"
          ]
        }
      ]
    },
    {
      "cell_type": "code",
      "metadata": {
        "colab": {
          "base_uri": "https://localhost:8080/"
        },
        "id": "DGVNCjndpOhc",
        "outputId": "4e4cab54-c376-4ab8-dc0c-c80b0e846662"
      },
      "source": [
        "for usuario in assistiram:\n",
        "  print(usuario)"
      ],
      "execution_count": null,
      "outputs": [
        {
          "output_type": "stream",
          "text": [
            "15\n",
            "23\n",
            "43\n",
            "56\n",
            "13\n",
            "23\n",
            "56\n",
            "42\n"
          ],
          "name": "stdout"
        }
      ]
    },
    {
      "cell_type": "code",
      "metadata": {
        "id": "7Z2MN0z1pocB"
      },
      "source": [
        "usuarios_data_science = {15, 23, 43, 56}\n",
        "usuarios_machine_learning = {13, 23, 56, 42}"
      ],
      "execution_count": null,
      "outputs": []
    },
    {
      "cell_type": "code",
      "metadata": {
        "colab": {
          "base_uri": "https://localhost:8080/"
        },
        "id": "RUeZoCRcqGJP",
        "outputId": "ac6198fa-3ded-4d79-a3fc-f7f4b67999c4"
      },
      "source": [
        "usuarios_data_science | usuarios_machine_learning # | é igual a ou"
      ],
      "execution_count": null,
      "outputs": [
        {
          "output_type": "execute_result",
          "data": {
            "text/plain": [
              "{13, 15, 23, 42, 43, 56}"
            ]
          },
          "metadata": {},
          "execution_count": 26
        }
      ]
    },
    {
      "cell_type": "code",
      "metadata": {
        "colab": {
          "base_uri": "https://localhost:8080/"
        },
        "id": "9qF4kjymqJoR",
        "outputId": "115b7f70-7a29-4ee4-9554-795e153fa02c"
      },
      "source": [
        "usuarios_data_science & usuarios_machine_learning # & verifica se existem mesmo elementos dentro de uma lista, sendo mais ou menos o E"
      ],
      "execution_count": null,
      "outputs": [
        {
          "output_type": "execute_result",
          "data": {
            "text/plain": [
              "{23, 56}"
            ]
          },
          "metadata": {},
          "execution_count": 27
        }
      ]
    },
    {
      "cell_type": "code",
      "metadata": {
        "colab": {
          "base_uri": "https://localhost:8080/"
        },
        "id": "1uathETbqcwR",
        "outputId": "c6d03309-91eb-4859-e902-53136b1884f1"
      },
      "source": [
        "usuarios_data_science - usuarios_machine_learning # exclue o mesmo resultado dentro dos conjunto"
      ],
      "execution_count": null,
      "outputs": [
        {
          "output_type": "execute_result",
          "data": {
            "text/plain": [
              "{15, 43}"
            ]
          },
          "metadata": {},
          "execution_count": 28
        }
      ]
    },
    {
      "cell_type": "code",
      "metadata": {
        "colab": {
          "base_uri": "https://localhost:8080/"
        },
        "id": "iQwwaObmq3Tc",
        "outputId": "e498f29d-0fbf-4433-bf83-057b080f5b24"
      },
      "source": [
        "fez_ds_mas_nao_fez_ml = usuarios_data_science - usuarios_machine_learning\n",
        "15 in fez_ds_mas_nao_fez_ml"
      ],
      "execution_count": null,
      "outputs": [
        {
          "output_type": "execute_result",
          "data": {
            "text/plain": [
              "True"
            ]
          },
          "metadata": {},
          "execution_count": 30
        }
      ]
    },
    {
      "cell_type": "code",
      "metadata": {
        "colab": {
          "base_uri": "https://localhost:8080/"
        },
        "id": "z0I-VyTqrGU7",
        "outputId": "72ef7a96-6f5e-4215-8ea0-643bed5cd818"
      },
      "source": [
        "usuarios_data_science ^ usuarios_machine_learning # ou exclusivo"
      ],
      "execution_count": null,
      "outputs": [
        {
          "output_type": "execute_result",
          "data": {
            "text/plain": [
              "{13, 15, 42, 43}"
            ]
          },
          "metadata": {},
          "execution_count": 31
        }
      ]
    },
    {
      "cell_type": "code",
      "metadata": {
        "colab": {
          "base_uri": "https://localhost:8080/"
        },
        "id": "Lot_Rdivrgma",
        "outputId": "6455ac67-1390-411d-b94e-cb34b868790e"
      },
      "source": [
        "usuarios = {1, 5, 76, 34, 52, 13, 17}\n",
        "len(usuarios)"
      ],
      "execution_count": null,
      "outputs": [
        {
          "output_type": "execute_result",
          "data": {
            "text/plain": [
              "7"
            ]
          },
          "metadata": {},
          "execution_count": 32
        }
      ]
    },
    {
      "cell_type": "code",
      "metadata": {
        "colab": {
          "base_uri": "https://localhost:8080/"
        },
        "id": "0qnzkWQjruBK",
        "outputId": "48499281-eeb8-456b-d2f7-5a9aeb336e00"
      },
      "source": [
        "usuarios.add(13)\n",
        "len(usuarios)"
      ],
      "execution_count": null,
      "outputs": [
        {
          "output_type": "execute_result",
          "data": {
            "text/plain": [
              "7"
            ]
          },
          "metadata": {},
          "execution_count": 35
        }
      ]
    },
    {
      "cell_type": "code",
      "metadata": {
        "colab": {
          "base_uri": "https://localhost:8080/"
        },
        "id": "3IBdveslrya7",
        "outputId": "e85a2e8f-fd76-4b7e-af8e-e99d2561e708"
      },
      "source": [
        "usuarios.add(765)\n",
        "len(usuarios)"
      ],
      "execution_count": null,
      "outputs": [
        {
          "output_type": "execute_result",
          "data": {
            "text/plain": [
              "8"
            ]
          },
          "metadata": {},
          "execution_count": 36
        }
      ]
    },
    {
      "cell_type": "code",
      "metadata": {
        "colab": {
          "base_uri": "https://localhost:8080/"
        },
        "id": "Hq0_FkEitSiS",
        "outputId": "da72133c-a6e1-4152-b726-8f02ac3eeed2"
      },
      "source": [
        "usuarios"
      ],
      "execution_count": null,
      "outputs": [
        {
          "output_type": "execute_result",
          "data": {
            "text/plain": [
              "{1, 5, 13, 17, 34, 52, 76, 765}"
            ]
          },
          "metadata": {},
          "execution_count": 37
        }
      ]
    },
    {
      "cell_type": "code",
      "metadata": {
        "colab": {
          "base_uri": "https://localhost:8080/"
        },
        "id": "x2oZZAu6tUEr",
        "outputId": "0be44a46-559b-42de-ffa0-010779dcaa46"
      },
      "source": [
        "usuarios = frozenset(usuarios)\n",
        "usuarios"
      ],
      "execution_count": null,
      "outputs": [
        {
          "output_type": "execute_result",
          "data": {
            "text/plain": [
              "frozenset({1, 5, 13, 17, 34, 52, 76, 765})"
            ]
          },
          "metadata": {},
          "execution_count": 39
        }
      ]
    },
    {
      "cell_type": "code",
      "metadata": {
        "colab": {
          "base_uri": "https://localhost:8080/"
        },
        "id": "2I2z2LIPtcET",
        "outputId": "18ebd649-9ae1-4227-ad1d-5737e9b8faa0"
      },
      "source": [
        "type(usuarios)"
      ],
      "execution_count": null,
      "outputs": [
        {
          "output_type": "execute_result",
          "data": {
            "text/plain": [
              "frozenset"
            ]
          },
          "metadata": {},
          "execution_count": 40
        }
      ]
    },
    {
      "cell_type": "code",
      "metadata": {
        "colab": {
          "base_uri": "https://localhost:8080/",
          "height": 163
        },
        "id": "giaoGMTatgQK",
        "outputId": "df666ddf-74a2-4e10-82cc-6c4a3d8fc6b7"
      },
      "source": [
        "usuarios.add(123342)"
      ],
      "execution_count": null,
      "outputs": [
        {
          "output_type": "error",
          "ename": "AttributeError",
          "evalue": "ignored",
          "traceback": [
            "\u001b[0;31m---------------------------------------------------------------------------\u001b[0m",
            "\u001b[0;31mAttributeError\u001b[0m                            Traceback (most recent call last)",
            "\u001b[0;32m<ipython-input-41-2b0985402900>\u001b[0m in \u001b[0;36m<module>\u001b[0;34m()\u001b[0m\n\u001b[0;32m----> 1\u001b[0;31m \u001b[0musuarios\u001b[0m\u001b[0;34m.\u001b[0m\u001b[0madd\u001b[0m\u001b[0;34m(\u001b[0m\u001b[0;36m123342\u001b[0m\u001b[0;34m)\u001b[0m\u001b[0;34m\u001b[0m\u001b[0;34m\u001b[0m\u001b[0m\n\u001b[0m",
            "\u001b[0;31mAttributeError\u001b[0m: 'frozenset' object has no attribute 'add'"
          ]
        }
      ]
    },
    {
      "cell_type": "code",
      "metadata": {
        "colab": {
          "base_uri": "https://localhost:8080/"
        },
        "id": "B6-YOhD0tiSi",
        "outputId": "8c537dd4-d90a-4c2d-ff9f-bc711c5a1bef"
      },
      "source": [
        "meu_texto = 'Bem vindo meu nome é Bruna e eu gosto muito de nomes e tenho as minhas cadelas e gosto muito de cachorros'\n",
        "meu_texto.split()"
      ],
      "execution_count": null,
      "outputs": [
        {
          "output_type": "execute_result",
          "data": {
            "text/plain": [
              "['Bem',\n",
              " 'vindo',\n",
              " 'meu',\n",
              " 'nome',\n",
              " 'é',\n",
              " 'Bruna',\n",
              " 'e',\n",
              " 'eu',\n",
              " 'gosto',\n",
              " 'muito',\n",
              " 'de',\n",
              " 'nomes',\n",
              " 'e',\n",
              " 'tenho',\n",
              " 'as',\n",
              " 'minhas',\n",
              " 'cadelas',\n",
              " 'e',\n",
              " 'gosto',\n",
              " 'muito',\n",
              " 'de',\n",
              " 'cachorros']"
            ]
          },
          "metadata": {},
          "execution_count": 42
        }
      ]
    },
    {
      "cell_type": "code",
      "metadata": {
        "colab": {
          "base_uri": "https://localhost:8080/"
        },
        "id": "pWGv5mJ9t6nF",
        "outputId": "bee0da5a-bfcb-4bdf-ec30-216b6053e31d"
      },
      "source": [
        "set(meu_texto.split())"
      ],
      "execution_count": null,
      "outputs": [
        {
          "output_type": "execute_result",
          "data": {
            "text/plain": [
              "{'Bem',\n",
              " 'Bruna',\n",
              " 'as',\n",
              " 'cachorros',\n",
              " 'cadelas',\n",
              " 'de',\n",
              " 'e',\n",
              " 'eu',\n",
              " 'gosto',\n",
              " 'meu',\n",
              " 'minhas',\n",
              " 'muito',\n",
              " 'nome',\n",
              " 'nomes',\n",
              " 'tenho',\n",
              " 'vindo',\n",
              " 'é'}"
            ]
          },
          "metadata": {},
          "execution_count": 43
        }
      ]
    },
    {
      "cell_type": "markdown",
      "metadata": {
        "id": "2I3-LV-Ku6zC"
      },
      "source": [
        "# **Dicionário (Mapa, etc)**"
      ]
    },
    {
      "cell_type": "code",
      "metadata": {
        "id": "acyBHVVvuBbm"
      },
      "source": [
        "aparicoes = {\n",
        "  'Bruna': 1,\n",
        "  'cadelas': 2,\n",
        "  'nome': 2,\n",
        "  'vindo': 1\n",
        " }"
      ],
      "execution_count": null,
      "outputs": []
    },
    {
      "cell_type": "code",
      "metadata": {
        "colab": {
          "base_uri": "https://localhost:8080/"
        },
        "id": "inf5-mq5vfsr",
        "outputId": "9d2cc731-b559-46e6-c146-739318d566ac"
      },
      "source": [
        "type(aparicoes)"
      ],
      "execution_count": null,
      "outputs": [
        {
          "output_type": "execute_result",
          "data": {
            "text/plain": [
              "dict"
            ]
          },
          "metadata": {},
          "execution_count": 46
        }
      ]
    },
    {
      "cell_type": "code",
      "metadata": {
        "colab": {
          "base_uri": "https://localhost:8080/"
        },
        "id": "kbsFMr_Svg7k",
        "outputId": "3028a804-b86c-4e9a-c374-07a998c952e5"
      },
      "source": [
        "aparicoes['Bruna']"
      ],
      "execution_count": null,
      "outputs": [
        {
          "output_type": "execute_result",
          "data": {
            "text/plain": [
              "1"
            ]
          },
          "metadata": {},
          "execution_count": 48
        }
      ]
    },
    {
      "cell_type": "code",
      "metadata": {
        "colab": {
          "base_uri": "https://localhost:8080/"
        },
        "id": "JKXcBjevvjvh",
        "outputId": "0614dbd5-a586-4166-ffc6-ec038d0e6834"
      },
      "source": [
        "aparicoes['cadelas']"
      ],
      "execution_count": null,
      "outputs": [
        {
          "output_type": "execute_result",
          "data": {
            "text/plain": [
              "2"
            ]
          },
          "metadata": {},
          "execution_count": 49
        }
      ]
    },
    {
      "cell_type": "code",
      "metadata": {
        "colab": {
          "base_uri": "https://localhost:8080/",
          "height": 163
        },
        "id": "d1fHkFL_vpWZ",
        "outputId": "405673af-2bab-4742-f4f4-fe6d5eef18db"
      },
      "source": [
        "aparicoes['apto']"
      ],
      "execution_count": null,
      "outputs": [
        {
          "output_type": "error",
          "ename": "KeyError",
          "evalue": "ignored",
          "traceback": [
            "\u001b[0;31m---------------------------------------------------------------------------\u001b[0m",
            "\u001b[0;31mKeyError\u001b[0m                                  Traceback (most recent call last)",
            "\u001b[0;32m<ipython-input-50-ab71391f2f8a>\u001b[0m in \u001b[0;36m<module>\u001b[0;34m()\u001b[0m\n\u001b[0;32m----> 1\u001b[0;31m \u001b[0maparicoes\u001b[0m\u001b[0;34m[\u001b[0m\u001b[0;34m'apto'\u001b[0m\u001b[0;34m]\u001b[0m\u001b[0;34m\u001b[0m\u001b[0;34m\u001b[0m\u001b[0m\n\u001b[0m",
            "\u001b[0;31mKeyError\u001b[0m: 'apto'"
          ]
        }
      ]
    },
    {
      "cell_type": "code",
      "metadata": {
        "colab": {
          "base_uri": "https://localhost:8080/"
        },
        "id": "nCPyVmtUvufI",
        "outputId": "73e37669-697d-4b14-9d40-59cb9fc5c883"
      },
      "source": [
        "aparicoes.get('xpto', 0)"
      ],
      "execution_count": null,
      "outputs": [
        {
          "output_type": "execute_result",
          "data": {
            "text/plain": [
              "0"
            ]
          },
          "metadata": {},
          "execution_count": 51
        }
      ]
    },
    {
      "cell_type": "code",
      "metadata": {
        "colab": {
          "base_uri": "https://localhost:8080/"
        },
        "id": "GkCI560wv1O-",
        "outputId": "4daceb9d-cc8f-4c2c-b859-d82f6f5b39f7"
      },
      "source": [
        "aparicoes.get('cadelas', 0)"
      ],
      "execution_count": null,
      "outputs": [
        {
          "output_type": "execute_result",
          "data": {
            "text/plain": [
              "2"
            ]
          },
          "metadata": {},
          "execution_count": 52
        }
      ]
    },
    {
      "cell_type": "code",
      "metadata": {
        "id": "wlicC81Pv5aZ"
      },
      "source": [
        "aparicoes['Vanette'] = 1"
      ],
      "execution_count": null,
      "outputs": []
    },
    {
      "cell_type": "code",
      "metadata": {
        "colab": {
          "base_uri": "https://localhost:8080/"
        },
        "id": "Rpq2MddFwMhs",
        "outputId": "6826852b-f560-4ce2-9748-d2c9a57d4946"
      },
      "source": [
        "aparicoes"
      ],
      "execution_count": null,
      "outputs": [
        {
          "output_type": "execute_result",
          "data": {
            "text/plain": [
              "{'Bruna': 1, 'Vanette': 1, 'cadelas': 2, 'nome': 2, 'vindo': 1}"
            ]
          },
          "metadata": {},
          "execution_count": 54
        }
      ]
    },
    {
      "cell_type": "code",
      "metadata": {
        "id": "kvq05NkOwNxO"
      },
      "source": [
        "aparicoes['Vanette'] = 2"
      ],
      "execution_count": null,
      "outputs": []
    },
    {
      "cell_type": "code",
      "metadata": {
        "colab": {
          "base_uri": "https://localhost:8080/"
        },
        "id": "icAlvviZwRzs",
        "outputId": "3b120c00-3f80-4d80-a4ca-30d15d2610cd"
      },
      "source": [
        "aparicoes"
      ],
      "execution_count": null,
      "outputs": [
        {
          "output_type": "execute_result",
          "data": {
            "text/plain": [
              "{'Bruna': 1, 'Vanette': 2, 'cadelas': 2, 'nome': 2, 'vindo': 1}"
            ]
          },
          "metadata": {},
          "execution_count": 56
        }
      ]
    },
    {
      "cell_type": "code",
      "metadata": {
        "id": "oXbGhvVzwSsk"
      },
      "source": [
        "del aparicoes['Vanette']"
      ],
      "execution_count": null,
      "outputs": []
    },
    {
      "cell_type": "code",
      "metadata": {
        "colab": {
          "base_uri": "https://localhost:8080/"
        },
        "id": "NhAAEEXEwWXo",
        "outputId": "58160950-c76c-407d-8a77-fae4615d594c"
      },
      "source": [
        "aparicoes"
      ],
      "execution_count": null,
      "outputs": [
        {
          "output_type": "execute_result",
          "data": {
            "text/plain": [
              "{'Bruna': 1, 'cadelas': 2, 'nome': 2, 'vindo': 1}"
            ]
          },
          "metadata": {},
          "execution_count": 58
        }
      ]
    },
    {
      "cell_type": "code",
      "metadata": {
        "colab": {
          "base_uri": "https://localhost:8080/"
        },
        "id": "reLLlXX1wXnI",
        "outputId": "0b6c6b66-a859-4606-adec-1d54e2fee647"
      },
      "source": [
        "'cadelas' in aparicoes"
      ],
      "execution_count": null,
      "outputs": [
        {
          "output_type": "execute_result",
          "data": {
            "text/plain": [
              "True"
            ]
          },
          "metadata": {},
          "execution_count": 59
        }
      ]
    },
    {
      "cell_type": "code",
      "metadata": {
        "colab": {
          "base_uri": "https://localhost:8080/"
        },
        "id": "nKCyRuoxwcL2",
        "outputId": "8842d3db-4f0d-49ff-b088-960fe9eafe08"
      },
      "source": [
        "'Vanette' in aparicoes"
      ],
      "execution_count": null,
      "outputs": [
        {
          "output_type": "execute_result",
          "data": {
            "text/plain": [
              "False"
            ]
          },
          "metadata": {},
          "execution_count": 60
        }
      ]
    },
    {
      "cell_type": "code",
      "metadata": {
        "colab": {
          "base_uri": "https://localhost:8080/"
        },
        "id": "ZNR3yTiRwdpS",
        "outputId": "e809bb15-6491-4487-f447-866f6d064d94"
      },
      "source": [
        "for elemento in aparicoes:\n",
        "  print(elemento)"
      ],
      "execution_count": null,
      "outputs": [
        {
          "output_type": "stream",
          "text": [
            "Bruna\n",
            "cadelas\n",
            "nome\n",
            "vindo\n"
          ],
          "name": "stdout"
        }
      ]
    },
    {
      "cell_type": "code",
      "metadata": {
        "colab": {
          "base_uri": "https://localhost:8080/"
        },
        "id": "nbJNsESYwjRa",
        "outputId": "1e2094b4-b746-4764-f8f5-a25b645c66cb"
      },
      "source": [
        "for elemento in aparicoes.keys():\n",
        "  print(elemento)"
      ],
      "execution_count": null,
      "outputs": [
        {
          "output_type": "stream",
          "text": [
            "Bruna\n",
            "cadelas\n",
            "nome\n",
            "vindo\n"
          ],
          "name": "stdout"
        }
      ]
    },
    {
      "cell_type": "code",
      "metadata": {
        "colab": {
          "base_uri": "https://localhost:8080/"
        },
        "id": "QCICvmlLwvd1",
        "outputId": "16b7d1a0-cc40-41a9-cff0-d31e8327afa4"
      },
      "source": [
        "for elemento in aparicoes.values():\n",
        "  print(elemento)"
      ],
      "execution_count": null,
      "outputs": [
        {
          "output_type": "stream",
          "text": [
            "1\n",
            "2\n",
            "2\n",
            "1\n"
          ],
          "name": "stdout"
        }
      ]
    },
    {
      "cell_type": "code",
      "metadata": {
        "colab": {
          "base_uri": "https://localhost:8080/"
        },
        "id": "BYmSnidawxux",
        "outputId": "677689b1-f018-4e31-d388-33717994d3d6"
      },
      "source": [
        "1 in aparicoes.values()"
      ],
      "execution_count": null,
      "outputs": [
        {
          "output_type": "execute_result",
          "data": {
            "text/plain": [
              "True"
            ]
          },
          "metadata": {},
          "execution_count": 65
        }
      ]
    },
    {
      "cell_type": "code",
      "metadata": {
        "colab": {
          "base_uri": "https://localhost:8080/"
        },
        "id": "KfSQN9ngw12C",
        "outputId": "dbec5c8d-0154-4938-b7d1-2df1e3932cf1"
      },
      "source": [
        "for elemento in aparicoes.keys():\n",
        "  valor = aparicoes[elemento]\n",
        "  print(elemento, valor)"
      ],
      "execution_count": null,
      "outputs": [
        {
          "output_type": "stream",
          "text": [
            "Bruna 1\n",
            "cadelas 2\n",
            "nome 2\n",
            "vindo 1\n"
          ],
          "name": "stdout"
        }
      ]
    },
    {
      "cell_type": "code",
      "metadata": {
        "colab": {
          "base_uri": "https://localhost:8080/"
        },
        "id": "72p2kdV6w6cP",
        "outputId": "f938b27e-bbc5-484b-83fe-a92d5d12f1dd"
      },
      "source": [
        "for elemento in aparicoes.items():\n",
        "  print(elemento)"
      ],
      "execution_count": null,
      "outputs": [
        {
          "output_type": "stream",
          "text": [
            "('Bruna', 1)\n",
            "('cadelas', 2)\n",
            "('nome', 2)\n",
            "('vindo', 1)\n"
          ],
          "name": "stdout"
        }
      ]
    },
    {
      "cell_type": "code",
      "metadata": {
        "colab": {
          "base_uri": "https://localhost:8080/"
        },
        "id": "mfRf58MAxDU-",
        "outputId": "2d4c2d9d-a10a-4292-9498-25c9bc7c1111"
      },
      "source": [
        "for chave, valor in aparicoes.items():\n",
        "  print(f'{chave} = {valor}')"
      ],
      "execution_count": null,
      "outputs": [
        {
          "output_type": "stream",
          "text": [
            "Bruna = 1\n",
            "cadelas = 2\n",
            "nome = 2\n",
            "vindo = 1\n"
          ],
          "name": "stdout"
        }
      ]
    },
    {
      "cell_type": "code",
      "metadata": {
        "colab": {
          "base_uri": "https://localhost:8080/"
        },
        "id": "32fyGjSkxPPy",
        "outputId": "538ad043-9058-4160-b210-3ac6701e6709"
      },
      "source": [
        "['palavra {}'.format(chave) for chave in aparicoes.keys()]"
      ],
      "execution_count": null,
      "outputs": [
        {
          "output_type": "execute_result",
          "data": {
            "text/plain": [
              "['palavra Bruna', 'palavra cadelas', 'palavra nome', 'palavra vindo']"
            ]
          },
          "metadata": {},
          "execution_count": 71
        }
      ]
    },
    {
      "cell_type": "code",
      "metadata": {
        "id": "t9qAZ4Aqxfnr",
        "colab": {
          "base_uri": "https://localhost:8080/"
        },
        "outputId": "79d777b4-93b5-4d47-86b4-0d984ec58452"
      },
      "source": [
        "meu_texto = 'Bem vindo meu nome é Bruna e eu gosto muito de nomes e tenho as minhas cadelas e gosto muito de cachorros'\n",
        "meu_texto = meu_texto.lower()\n",
        "\n",
        "aparicoes = {}\n",
        "\n",
        "for palavra in meu_texto.split():\n",
        "  ate_agora = aparicoes.get(palavra, 0)\n",
        "  aparicoes[palavra] = ate_agora + 1\n",
        "\n",
        "aparicoes"
      ],
      "execution_count": null,
      "outputs": [
        {
          "output_type": "execute_result",
          "data": {
            "text/plain": [
              "{'as': 1,\n",
              " 'bem': 1,\n",
              " 'bruna': 1,\n",
              " 'cachorros': 1,\n",
              " 'cadelas': 1,\n",
              " 'de': 2,\n",
              " 'e': 3,\n",
              " 'eu': 1,\n",
              " 'gosto': 2,\n",
              " 'meu': 1,\n",
              " 'minhas': 1,\n",
              " 'muito': 2,\n",
              " 'nome': 1,\n",
              " 'nomes': 1,\n",
              " 'tenho': 1,\n",
              " 'vindo': 1,\n",
              " 'é': 1}"
            ]
          },
          "metadata": {},
          "execution_count": 6
        }
      ]
    },
    {
      "cell_type": "code",
      "metadata": {
        "colab": {
          "base_uri": "https://localhost:8080/"
        },
        "id": "os6b40oBs_Op",
        "outputId": "950fad7d-7b0c-4736-8087-2578b3c9ab32"
      },
      "source": [
        "from collections import defaultdict\n",
        "\n",
        "aparicoes = defaultdict(int)\n",
        "\n",
        "for palavra in meu_texto.split():\n",
        "  ate_agora = aparicoes[palavra]\n",
        "  aparicoes[palavra] = ate_agora + 1\n",
        "\n",
        "aparicoes"
      ],
      "execution_count": null,
      "outputs": [
        {
          "output_type": "execute_result",
          "data": {
            "text/plain": [
              "defaultdict(int,\n",
              "            {'as': 1,\n",
              "             'bem': 1,\n",
              "             'bruna': 1,\n",
              "             'cachorros': 1,\n",
              "             'cadelas': 1,\n",
              "             'de': 2,\n",
              "             'e': 3,\n",
              "             'eu': 1,\n",
              "             'gosto': 2,\n",
              "             'meu': 1,\n",
              "             'minhas': 1,\n",
              "             'muito': 2,\n",
              "             'nome': 1,\n",
              "             'nomes': 1,\n",
              "             'tenho': 1,\n",
              "             'vindo': 1,\n",
              "             'é': 1})"
            ]
          },
          "metadata": {},
          "execution_count": 8
        }
      ]
    },
    {
      "cell_type": "code",
      "metadata": {
        "colab": {
          "base_uri": "https://localhost:8080/"
        },
        "id": "G7B_0UgduNvm",
        "outputId": "e6f04485-53e6-4040-d851-89c0bfaf4517"
      },
      "source": [
        "from collections import defaultdict\n",
        "aparicoes = defaultdict(int)\n",
        "for palavra in meu_texto.split():\n",
        "  aparicoes[palavra] += ate_agora + 1\n",
        "\n",
        "aparicoes"
      ],
      "execution_count": null,
      "outputs": [
        {
          "output_type": "execute_result",
          "data": {
            "text/plain": [
              "defaultdict(int,\n",
              "            {'as': 1,\n",
              "             'bem': 1,\n",
              "             'bruna': 1,\n",
              "             'cachorros': 1,\n",
              "             'cadelas': 1,\n",
              "             'de': 2,\n",
              "             'e': 3,\n",
              "             'eu': 1,\n",
              "             'gosto': 2,\n",
              "             'meu': 1,\n",
              "             'minhas': 1,\n",
              "             'muito': 2,\n",
              "             'nome': 1,\n",
              "             'nomes': 1,\n",
              "             'tenho': 1,\n",
              "             'vindo': 1,\n",
              "             'é': 1})"
            ]
          },
          "metadata": {},
          "execution_count": 13
        }
      ]
    },
    {
      "cell_type": "code",
      "metadata": {
        "id": "N6aUhJy2uuZ_"
      },
      "source": [
        "class Conta:\n",
        "  def __init__(self):\n",
        "    print('Criando uma conta')"
      ],
      "execution_count": null,
      "outputs": []
    },
    {
      "cell_type": "code",
      "metadata": {
        "colab": {
          "base_uri": "https://localhost:8080/"
        },
        "id": "gptbpTzpu6Sk",
        "outputId": "c1e19bcb-4472-46e0-fa68-19952a812189"
      },
      "source": [
        "contas = defaultdict(Conta)\n",
        "contas[15]"
      ],
      "execution_count": null,
      "outputs": [
        {
          "output_type": "stream",
          "text": [
            "Imprimindo uma conta\n"
          ],
          "name": "stdout"
        },
        {
          "output_type": "execute_result",
          "data": {
            "text/plain": [
              "<__main__.Conta at 0x7f427147fd90>"
            ]
          },
          "metadata": {},
          "execution_count": 15
        }
      ]
    },
    {
      "cell_type": "code",
      "metadata": {
        "colab": {
          "base_uri": "https://localhost:8080/"
        },
        "id": "ZDqeDzFmvCCl",
        "outputId": "e41459b2-8aff-41bc-c4d8-43f95f834f1d"
      },
      "source": [
        "contas[17]"
      ],
      "execution_count": null,
      "outputs": [
        {
          "output_type": "stream",
          "text": [
            "Imprimindo uma conta\n"
          ],
          "name": "stdout"
        },
        {
          "output_type": "execute_result",
          "data": {
            "text/plain": [
              "<__main__.Conta at 0x7f4271434250>"
            ]
          },
          "metadata": {},
          "execution_count": 16
        }
      ]
    },
    {
      "cell_type": "code",
      "metadata": {
        "colab": {
          "base_uri": "https://localhost:8080/"
        },
        "id": "fpfwwXQ5vO0j",
        "outputId": "56fe3dd1-39a4-4479-f3ae-59bad6e8b2e4"
      },
      "source": [
        "contas[15]"
      ],
      "execution_count": null,
      "outputs": [
        {
          "output_type": "execute_result",
          "data": {
            "text/plain": [
              "<__main__.Conta at 0x7f427147fd90>"
            ]
          },
          "metadata": {},
          "execution_count": 17
        }
      ]
    },
    {
      "cell_type": "code",
      "metadata": {
        "colab": {
          "base_uri": "https://localhost:8080/",
          "height": 231
        },
        "id": "arCMWw_pvRLi",
        "outputId": "46b5add4-f488-4e95-afce-3175ca8d0f9b"
      },
      "source": [
        "from collections import Counter\n",
        "\n",
        "aparicoes = Counter()\n",
        "for palavra in meu_texto.split():\n",
        "  aparicoes[palavra] += ate_agora + 1\n",
        "\n",
        "aparicoes"
      ],
      "execution_count": null,
      "outputs": [
        {
          "output_type": "error",
          "ename": "NameError",
          "evalue": "ignored",
          "traceback": [
            "\u001b[0;31m---------------------------------------------------------------------------\u001b[0m",
            "\u001b[0;31mNameError\u001b[0m                                 Traceback (most recent call last)",
            "\u001b[0;32m<ipython-input-2-4ea3edf24ec9>\u001b[0m in \u001b[0;36m<module>\u001b[0;34m()\u001b[0m\n\u001b[1;32m      2\u001b[0m \u001b[0;34m\u001b[0m\u001b[0m\n\u001b[1;32m      3\u001b[0m \u001b[0maparicoes\u001b[0m \u001b[0;34m=\u001b[0m \u001b[0mCounter\u001b[0m\u001b[0;34m(\u001b[0m\u001b[0;34m)\u001b[0m\u001b[0;34m\u001b[0m\u001b[0;34m\u001b[0m\u001b[0m\n\u001b[0;32m----> 4\u001b[0;31m \u001b[0;32mfor\u001b[0m \u001b[0mpalavra\u001b[0m \u001b[0;32min\u001b[0m \u001b[0mmeu_texto\u001b[0m\u001b[0;34m.\u001b[0m\u001b[0msplit\u001b[0m\u001b[0;34m(\u001b[0m\u001b[0;34m)\u001b[0m\u001b[0;34m:\u001b[0m\u001b[0;34m\u001b[0m\u001b[0;34m\u001b[0m\u001b[0m\n\u001b[0m\u001b[1;32m      5\u001b[0m   \u001b[0maparicoes\u001b[0m\u001b[0;34m[\u001b[0m\u001b[0mpalavra\u001b[0m\u001b[0;34m]\u001b[0m \u001b[0;34m+=\u001b[0m \u001b[0mate_agora\u001b[0m \u001b[0;34m+\u001b[0m \u001b[0;36m1\u001b[0m\u001b[0;34m\u001b[0m\u001b[0;34m\u001b[0m\u001b[0m\n\u001b[1;32m      6\u001b[0m \u001b[0;34m\u001b[0m\u001b[0m\n",
            "\u001b[0;31mNameError\u001b[0m: name 'meu_texto' is not defined"
          ]
        }
      ]
    },
    {
      "cell_type": "code",
      "metadata": {
        "colab": {
          "base_uri": "https://localhost:8080/"
        },
        "id": "xfyB1gEgvqpY",
        "outputId": "5adec4fc-b772-4812-e570-34e2c7866827"
      },
      "source": [
        "aparicoes = Counter(meu_texto.split())\n",
        "aparicoes"
      ],
      "execution_count": null,
      "outputs": [
        {
          "output_type": "execute_result",
          "data": {
            "text/plain": [
              "Counter({'as': 1,\n",
              "         'bem': 1,\n",
              "         'bruna': 1,\n",
              "         'cachorros': 1,\n",
              "         'cadelas': 1,\n",
              "         'de': 2,\n",
              "         'e': 3,\n",
              "         'eu': 1,\n",
              "         'gosto': 2,\n",
              "         'meu': 1,\n",
              "         'minhas': 1,\n",
              "         'muito': 2,\n",
              "         'nome': 1,\n",
              "         'nomes': 1,\n",
              "         'tenho': 1,\n",
              "         'vindo': 1,\n",
              "         'é': 1})"
            ]
          },
          "metadata": {},
          "execution_count": 19
        }
      ]
    },
    {
      "cell_type": "code",
      "metadata": {
        "id": "th22P-ayvzIO"
      },
      "source": [
        ""
      ],
      "execution_count": null,
      "outputs": []
    },
    {
      "cell_type": "markdown",
      "metadata": {
        "id": "nUPq8ZxnwEr-"
      },
      "source": [
        "# **Testando o uso de diversas coleções**"
      ]
    },
    {
      "cell_type": "code",
      "metadata": {
        "id": "SePEQAoxwLco"
      },
      "source": [
        "texto1 = '''\n",
        "Quando o assunto é Big Data, normalmente nomes como Data Warehouse e Data Lake são mencionados. Como ambos são locais de armazenamento de dados, geralmente, costumam ser confundidos.\n",
        "\n",
        "Por isso, ao longo desse artigo, vamos conhecê-los e entender quais são suas diferenças. Antes de começar a abordar esse assunto, porém, precisamos compreender um pouco sobre estrutura de dados para facilitar o entendimento do tema.\n",
        "\n",
        "Tipos de dados\n",
        "Estruturados\n",
        "A primeira categoria são dados que possuem um padrão específico. Eles existem em formatos pré-definidos, como uma tabela com campos fixados. Além disso, dados estruturados são fáceis de analisar e de pesquisar quando comparados com dados não-estruturados.\n",
        "\n",
        "A linguagem SQL é utilizada para a consulta e construção de bases de dados estruturadas que podem se relacionar com outras bases de dados também estruturadas. Exemplos de campos presentes em dados estruturados são: nomes, endereços, CEP, telefone etc.\n",
        "\n",
        "Não estruturados\n",
        "A segunda categoria são dados não estruturados. Podem ter uma estrutura interna, mas não de uma forma pré-definida. Essa definição fica mais clara quando vemos que exemplos de dados não estruturados apresentam uma variedade maior.\n",
        "\n",
        "Texto, atividades em redes sociais, e-mails, gravações de câmeras de segurança e músicas são exemplos típicos de dados não estruturados. A variedade e falta de estrutura pré-definida torna a sua análise mais difícil. Além disso, por serem não estruturados, esses dados são armazenados em bancos de dados não relacionais, chamados de NoSQL.\n",
        "\n",
        "Semi estruturados\n",
        "Dados semi-estruturados pertencem a uma terceira categoria que se posiciona entre as outras duas.\n",
        "\n",
        "Eles podem ser pensados como um tipo de dado estruturado que não se encaixa na estrutura de uma base de dados relacional, mas que ainda considera sistemas de nomeação de campos, permitindo a separação de diferentes elementos e tornando a pesquisa mais fácil.\n",
        "\n",
        "Definição de Data Warehouse e Data Lake\n",
        "Bases de dados são tipicamente estruturadas e organizadas para eventuais consultas, mas não são desenvolvidas para que possamos realizar a análise dos dados que as compõem.\n",
        "\n",
        "A escolha de um Data Warehouse ou Data Lake pode estar relacionada aos dados que iremos extrair e aos procedimentos que iremos realizar na sequência.\n",
        "\n",
        "Por isso, precisamos entender em detalhe como cada um funciona.\n",
        "\n",
        "Data Warehouse\n",
        "Um Data Warehouse é composto por diversas bases de dados - normalmente bases estruturadas, e é utilizado para o business intelligence (BI). Por armazenarem dados processados, economizam espaço de armazenamento com dados que correm o risco de nunca serem usados.\n",
        "\n",
        "Através do Data Warehouse, conseguimos consumir todas essas bases de dados e criar uma camada otimizada para realizar a análise de dados com ferramentas como o Power BI.\n",
        "\n",
        "A organização dessas bases de dados (esquema) é feita durante a sua importação.\n",
        "\n",
        "Data lake\n",
        "O Data Lake pode ser visto como um repositório centralizado para armazenar dados estruturados e não estruturados.\n",
        "\n",
        "Ele pode armazenar dados não processados sem que haja a necessidade de nenhum tipo de transformação. Além disso, pode guardar qualquer tipo de formato, como imagens, textos, vídeos, modelos de machine learning e dados coletados em tempo real, implicando diretamente na sua capacidade de armazenamento.\n",
        "\n",
        "O processamento pode ser feito na exportação e, dessa forma, a organização dos dados é feita na leitura. Por mais que ele seja de rápida leitura, pode armazenar tantos dados variados que acaba gerando um pântano de dados se não forem implementadas técnicas para manter a qualidade e a governança dos dados.\n",
        "\n",
        "Geralmente são explorados pelos cientistas de dados e analistas de BI.\n",
        "\n",
        "Data Lake vs Data Warehouse\n",
        "Tanto data warehouses quanto data lakes podem armazenar dados, mas existem diferenças em relação a escala e número de fontes de dados. Uma organização pode precisar de um data lake, data warehouse e bases de dados para diferentes usos.\n",
        "\n",
        "Em resumo:\n",
        "\n",
        "O Data Warehouse é um local centralizado para dados estruturados e possui características conhecidas com antecedência para a sua construção e processo de extração, transformação e carregamento de dados.\n",
        "\n",
        "O Data Lake tem uma proporção muito maior onde dados de várias fontes podem se encontrar. Todos os tipos de dados são permitidos, não importando se são estruturados ou não.\n",
        "\n",
        "Gostou do assunto?\n",
        "\n",
        "Na Alura você aprender mais sobre esse tema no nosso curso de Engenharia de dados: Introdução a Data Pipelines e também na Formação BI e Data Warehouse com Pentaho.\n",
        "\n",
        "Além disso, temos cursos para se aprofundar em dados estruturados com o MySQL e não estruturados NoSQL.\n",
        "\n",
        "'''"
      ],
      "execution_count": null,
      "outputs": []
    },
    {
      "cell_type": "code",
      "metadata": {
        "id": "fuAC9RPNx3Z1"
      },
      "source": [
        "texto2 = '''Como conectar o Google Colaboratory ao GitHub\n",
        "Millena Gená Pereira\n",
        "Millena Gená Pereira\n",
        "30 de Julho\n",
        "COMPARTILHE\n",
        "\n",
        "\n",
        "Esse artigo faz parte da\n",
        "\n",
        "Formação Data Science\n",
        "\n",
        "background azul com pequenos quadrados azuis \n",
        "logo do Google Colaboratory, com um símbolo de soma e também a logo do GitHub \n",
        "Ter um portfólio bem estruturado é uma etapa muito importante para profissionais que desejam conseguir uma tão sonhada vaga na área da tecnologia. Aprender a compartilhar seus projetos de uma forma organizada e deixá-los disponíveis para que recrutadores consigam ter fácil acesso é crucial para que conheçam um pouco mais sobre suas habilidades e expertises.\n",
        "\n",
        "Pensando nisso, neste artigo iremos entender como cientistas de dados que utilizam o Google Colaboratory para o desenvolvimento de projetos de Data Science podem compartilhar suas análises e montar seu portfólio utilizando a plataforma de hospedagem de código, o GitHub.\n",
        "\n",
        "Criando um repositório\n",
        "Após criar sua conta no GitHub, a primeira etapa para conseguir compartilhar seu notebook é criar um repositório. O repositório vai ser o local no seu GitHub onde seu projeto ficará armazenado. Normalmente cria-se um novo para cada projeto diferente.\n",
        "\n",
        "Para criar um repositório, ao acessar sua conta, você pode clicar no ícone do seu perfil localizado no canto superior direito da tela e selecionar \"Your Repositories”:\n",
        "\n",
        "opções que aparecem ao clicar no ícone do perfil no canto superior da tela com uma seta vermelha indicando a opção \"Your repositories\" \n",
        "Em seguida, você deve ser direcionado(a) para uma tela com os seus repositórios já existentes. Para criar um novo repositório, selecione o ícone verde escrito “New”, localizado na parte superior dessa aba:\n",
        "\n",
        "aba \"Repositories\" selecionada, onde existe um retângulo vermelho destacando a opção New \n",
        "Feito isso, aparecerá uma tela onde você deverá nomear o repositório que deseja criar. Você pode nomear como achar mais interessante. O importante é que, ao escrever o nome do repositório, não tenha nenhum espaço nem caracteres especiais, uma vez que esse nome fará parte da URL para acessar seu repositório. Vou nomear o meu repositório de “Bootcamp_Data_Science_Alura”, porque nele eu irei adicionar os notebooks que foram desenvolvidos durante o nosso Bootcamp de Data Science:\n",
        "\n",
        "tela de criação de um novo repositório, onde o campo Repository name está destacado com um retângulo vermelho e existe uma seta vermelha apontando para a checkbox Add a README file \n",
        "Após nomeado, é importante não esquecer de marcar a checkbox descrita como “Add a README file”. Com essa opção marcada, ao criar seu repositório, automaticamente será gerado um arquivo do tipo MD (Markdown). Esse arquivo README.md será utilizado posteriormente para colocar uma descrição a respeito do projeto que se encontra naquele repositório.\n",
        "\n",
        "Em seguida, selecione a opção “Create repository” para fechar essa janela e ir para a página inicial do seu repositório:\n",
        "\n",
        "página inicial do repositório criado, onde uma seta vermelha aponta para o arquivo README.md \n",
        "Editando o README\n",
        "Ao acessar a página inicial do seu repositório, perceba que o arquivo README foi criado. Para editá-lo, basta clicar no ícone do README.md e selecionar o símbolo de lápis que aparece do lado direito:\n",
        "\n",
        "arquivo README.md com um quadrado vermelho destacando a opção Edit the file \n",
        "Dessa forma, irá abrir uma tela onde você poderá escrever uma descrição para seu projeto. O README usa o sistema de formatação Markdown, então podemos utilizar isso para estilizar nosso texto.\n",
        "\n",
        "O README é o nosso primeiro contato ao acessar seu repositório. Por isso, é importante que ele seja detalhado e contenha um resumo sobre as partes do seu projeto. Depois de escrever as informações do README, ao rolar até o final desta página, você vai encontrar um botão denominado “Commit changes”. Um commit é realizado quando é feita alguma alteração no nosso projeto e é interessante que ele descreva de forma sucinta a alteração que foi realizada, por exemplo:\n",
        "\n",
        "Imagem da parte onde deve ser realizado o commit. O commit escrito está destacado por um retângulo vermelho e existe uma seta vermelha apontando para a opção Commit changes \n",
        "Salvando o notebook do Google Colab no GitHub\n",
        "Agora, vamos salvar o notebook do Google Colab, que contém nosso projeto, no repositório que criamos. Para fazer isso é necessário acessar o notebook que deseja adicionar e executar todas as suas células para salvar qualquer modificação que tenha sido realizada. Após, na barra de ferramentas do Colab, você pode acessar Arquivos > Salvar uma cópia no GitHub:\n",
        "\n",
        "Imagem do Google Colab onde é seguido o caminho Arquivos > Salvar uma cópia no GitHub. Um retângulo vermelho está indicando a aba Arquivo e uma seta vermelha a opção Salvar uma cópia \n",
        "Caso seja a primeira vez que você realiza a conexão do Google Colab ao GitHub, o Colab deverá solicitar o acesso ao GitHub por meio do seu login e senha para que ele possa permitir que seus notebooks sejam salvos. Depois dessa etapa, deve aparecer uma tela denominada Copiar para o GitHub:\n",
        "\n",
        "Imagem da tela Copiar para o GitHub. Nessa tela existe uma numeração de 1 a 3 (em vermelho), seguindo a seguinte ordem: Repositório, Caminho do arquivo, Mensagem de confirmação \n",
        "Nessa tela, temos 3 campos principais:\n",
        "\n",
        "Repositório: nessa parte, você deve selecionar o nome do repositório onde deseja salvar seu notebook;\n",
        "\n",
        "Caminho do arquivo: esse outro campo é designado para você selecionar em qual parte do seu repositório deseja adicionar esse arquivo. Caso você escolha adicionar apenas o arquivo, basta deixar apenas o nome dele. Mas, se desejar que ele fique dentro de alguma pasta específica do seu GitHub, você deve adicionar o nome dessa pasta antes do nome do arquivo e colocar uma “/”, seguindo a estrutura: nome_da_pasta/nome_do_arquivo;\n",
        "\n",
        "Mensagem de confirmação: assim como o commit, mostrado anteriormente, a mensagem de confirmação é um campo no qual deve ser descrita a alteração que foi realizada no projeto.\n",
        "\n",
        "Com esses campos preenchidos, ao clicar em “OK”, o notebook será salvo no repositório selecionado e dentro da respectiva pasta que foi criada por meio do “Caminho do arquivo”.\n",
        "\n",
        "O GitHub normalmente disponibiliza uma prévia do seu notebook no próprio site mesmo. No entanto, ao acessar o repositório logo após ter salvo seu notebook, pode acontecer do carregamento dessa prévia não estar disponível ainda e aparecer um aviso indicando um erro. Mas, após algum tempo, ao sair e acessar novamente o site, logo essa prévia deve ser apresentada:\n",
        "\n",
        "Imagem com a prévia do notebook sendo apresentada no GitHub \n",
        "Criando uma pasta no repositório\n",
        "Para finalizarmos essa parte e deixar nosso repositório bem estruturado, podemos criar uma pasta chamada “Dados” e adicionar os arquivos de dados que estão sendo utilizados no nosso notebook. Para criar essa pasta no próprio GitHub, é necessário voltar para a página original do repositório e clicar em Add file > Create new file:\n",
        "\n",
        "Imagem da página inicial do repositório onde existe a pasta Notebooks e o arquivo README.md. Nessa tela, a opção Create new file está destacada por uma seta vermelha \n",
        "Na próxima página, para criarmos a pasta “Dados” devemos digitar “Dados/”, junto com essa barra, para que o GitHub entenda que queremos criar uma pasta:\n",
        "\n",
        "caminho do repositório com a pasta Dados já criada \n",
        "Agora, para que essa pasta seja devidamente criada é necessário criar um arquivo simbólico, para que o GitHub entenda que você está criando uma pasta na qual poderão ser adicionados arquivos. Como ele será excluído posteriormente, você pode nomeá-lo como preferir:\n",
        "\n",
        "caminho do repositório com a pasta Dados já criada e com o arquivo_simbolico.txt sendo criado \n",
        "Agora que a pasta já foi criada, para salvarmos os dados do nosso projeto nela, podemos acessar essa pasta e clicar em Add files > Upload files:\n",
        "\n",
        "Imagem do conteúdo dentro da pasta Dados com a opção Update files destacada por uma seta vermelha \n",
        "Em seguida, será apresentada uma página onde poderá arrastar o arquivo que deseja fazer upload ou selecionar a opção “choose your files”, para que selecione esse arquivo diretamente das pastas da sua máquina.\n",
        "\n",
        "Imagem da tela onde deve ser feito o upload dos arquivos \n",
        "Com o arquivo selecionado, você pode escrever seu respectivo commit e clicar em “Commit changes” para salvar as alterações.\n",
        "\n",
        "Imagem da tela onde deve ser adicionado os arquivos. Nessa tela foi feito o upload do arquivo ano_mes_processamento.csv e está mostrando o commit feito para adicionar esse arquivo \n",
        "O \"arquivo_simbolico.txt\" anteriormente criado, agora pode ser excluído. Ele existia apenas para que a pasta “Dados” não ficasse vazia, uma vez que não tem como criarmos uma pasta vazia no GitHub. Sendo assim, você só pode excluir o arquivo simbólico a partir do momento que existir outro arquivo na mesma pasta. Para excluí-lo, podemos clicar no arquivo e selecionar o símbolo de lixeira localizado do lado direito:\n",
        "\n",
        "Imagem do arquivo_simbolico.txt com o símbolo de lixeira destacado por um quadrado vermelho no canto inferior direito \n",
        "Salvando as alterações\n",
        "Agora, nosso repositório está pronto e o projeto está salvo. Mas, e quando fizermos uma alteração no nosso notebook, como podemos salvar essa alteração também no nosso repositório?\n",
        "\n",
        "É simples! Basta seguir aquele mesmo processo que realizamos anteriormente quando fomos salvar nosso notebook pela primeira vez no repositório. Você pode acessar Arquivos > Salvar uma cópia no GitHub. Na parte de “Caminho do arquivo” é importante colocar o mesmo caminho que colocamos anteriormente, com o nome da pasta e o mesmo nome do arquivo. No espaço onde está escrito “Mensagem de confirmação”, você pode escrever a alteração que foi realizada no notebook e clicar em “OK”.\n",
        "\n",
        "Veja o exemplo:\n",
        "\n",
        "Imagem da tela de Copiar para o GitHub, dessa vez salvando uma alteração feita no notebook e realizando o commit \n",
        "E pronto! Alteração salva e commit feito.\n",
        "\n",
        "Gostou do artigo e quer aprender mais sobre o mundo da Ciência de Dados e também do GitHub? Então não deixe de dar uma conferida na Formação Python para Data Science e nos cursos Git e Github: Controle e compartilhe seu código e Git e GitHub: Estratégias de ramificação, Conflitos e Pull Requests.'''"
      ],
      "execution_count": null,
      "outputs": []
    },
    {
      "cell_type": "code",
      "metadata": {
        "colab": {
          "base_uri": "https://localhost:8080/"
        },
        "id": "QKDYfkmxx_3_",
        "outputId": "61834a10-e678-4a89-8116-9941a2747587"
      },
      "source": [
        "Counter(texto2.lower())"
      ],
      "execution_count": null,
      "outputs": [
        {
          "output_type": "execute_result",
          "data": {
            "text/plain": [
              "Counter({'\\n': 95,\n",
              "         ' ': 1598,\n",
              "         '!': 2,\n",
              "         '\"': 7,\n",
              "         '(': 3,\n",
              "         ')': 3,\n",
              "         ',': 79,\n",
              "         '-': 5,\n",
              "         '.': 56,\n",
              "         '/': 3,\n",
              "         '0': 1,\n",
              "         '1': 1,\n",
              "         '3': 3,\n",
              "         ':': 23,\n",
              "         ';': 2,\n",
              "         '>': 5,\n",
              "         '?': 2,\n",
              "         '_': 12,\n",
              "         'a': 995,\n",
              "         'b': 85,\n",
              "         'c': 324,\n",
              "         'd': 388,\n",
              "         'e': 957,\n",
              "         'f': 64,\n",
              "         'g': 112,\n",
              "         'h': 75,\n",
              "         'i': 539,\n",
              "         'j': 31,\n",
              "         'k': 24,\n",
              "         'l': 237,\n",
              "         'm': 356,\n",
              "         'n': 360,\n",
              "         'o': 997,\n",
              "         'p': 285,\n",
              "         'q': 96,\n",
              "         'r': 608,\n",
              "         's': 565,\n",
              "         't': 399,\n",
              "         'u': 279,\n",
              "         'v': 138,\n",
              "         'w': 6,\n",
              "         'x': 30,\n",
              "         'y': 9,\n",
              "         'z': 35,\n",
              "         'á': 47,\n",
              "         'â': 4,\n",
              "         'ã': 44,\n",
              "         'ç': 38,\n",
              "         'é': 29,\n",
              "         'ê': 19,\n",
              "         'í': 14,\n",
              "         'ó': 52,\n",
              "         'õ': 4,\n",
              "         'ú': 1,\n",
              "         '“': 17,\n",
              "         '”': 18})"
            ]
          },
          "metadata": {},
          "execution_count": 8
        }
      ]
    },
    {
      "cell_type": "code",
      "metadata": {
        "id": "e9vi4o6TyCS3"
      },
      "source": [
        "def analisa_frequencia_de_letras(texto):\n",
        "  aparicoes = Counter(texto.lower())\n",
        "  total_de_caracteres = sum(aparicoes.values())\n",
        "\n",
        "  proporcoes = [(letra, frequencia / total_de_caracteres) for letra, frequencia in aparicoes.items()]\n",
        "  proporcoes = Counter(dict(proporcoes))\n",
        "  mais_comuns = proporcoes.most_common(10)\n",
        "  for caractere, proporcao in mais_comuns:\n",
        "    print(f'{caractere} => {proporcao*100:.2f}%')\n",
        "  "
      ],
      "execution_count": null,
      "outputs": []
    },
    {
      "cell_type": "code",
      "metadata": {
        "colab": {
          "base_uri": "https://localhost:8080/"
        },
        "id": "yw1JoWL7ym_h",
        "outputId": "3239573e-c04c-43bf-f15a-13606cef1104"
      },
      "source": [
        "analisa_frequencia_de_letras(texto1)"
      ],
      "execution_count": null,
      "outputs": [
        {
          "output_type": "stream",
          "text": [
            "  => 14.90%\n",
            "a => 11.04%\n",
            "e => 9.87%\n",
            "o => 8.32%\n",
            "s => 8.32%\n",
            "d => 6.40%\n",
            "r => 5.50%\n",
            "t => 4.33%\n",
            "n => 3.84%\n",
            "m => 3.79%\n"
          ],
          "name": "stdout"
        }
      ]
    },
    {
      "cell_type": "code",
      "metadata": {
        "colab": {
          "base_uri": "https://localhost:8080/"
        },
        "id": "4OM937go1DIT",
        "outputId": "c2a62d37-1921-4af4-de01-70449827925c"
      },
      "source": [
        "analisa_frequencia_de_letras(texto2)"
      ],
      "execution_count": null,
      "outputs": [
        {
          "output_type": "stream",
          "text": [
            "  => 15.70%\n",
            "o => 9.79%\n",
            "a => 9.77%\n",
            "e => 9.40%\n",
            "r => 5.97%\n",
            "s => 5.55%\n",
            "i => 5.29%\n",
            "t => 3.92%\n",
            "d => 3.81%\n",
            "n => 3.54%\n"
          ],
          "name": "stdout"
        }
      ]
    },
    {
      "cell_type": "code",
      "metadata": {
        "id": "JbhhvNDL1YbK"
      },
      "source": [
        ""
      ],
      "execution_count": null,
      "outputs": []
    }
  ]
}
